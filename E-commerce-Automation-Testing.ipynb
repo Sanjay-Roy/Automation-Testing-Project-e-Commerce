{
 "cells": [
  {
   "cell_type": "code",
   "execution_count": 1,
   "id": "1d89d6b6-a46e-4923-b05f-b53093a4b895",
   "metadata": {},
   "outputs": [],
   "source": [
    "from selenium import webdriver\n",
    "from selenium.webdriver.common.by import By\n",
    "from selenium.webdriver.common.keys import Keys\n",
    "from selenium.webdriver.chrome.service import Service\n",
    "import time"
   ]
  },
  {
   "cell_type": "code",
   "execution_count": 2,
   "id": "05475189-c238-42d2-aa0d-3cd414d474da",
   "metadata": {},
   "outputs": [],
   "source": [
    "driver_path = 'chromedriver.exe'\n",
    "service = Service(driver_path) "
   ]
  },
  {
   "cell_type": "code",
   "execution_count": 6,
   "id": "1bfaf1c0-5ec0-4bb2-bc35-d32e2b7d1756",
   "metadata": {},
   "outputs": [
    {
     "name": "stdout",
     "output_type": "stream",
     "text": [
      "PrestaShop demo website opened successfully.\n",
      "Switched to iframe.\n",
      "Search query 'T Shirt' submitted.\n",
      "Search successful. Found 1 results.\n",
      "First product: Hummingbird Printed T-Shirt\n",
      "Clicked 'Add to cart' button.\n",
      "Test failed: Product not added to cart.\n",
      "Browser closed.\n"
     ]
    }
   ],
   "source": [
    "driver = webdriver.Chrome(service=service)\n",
    "try:\n",
    "    #1: Open website\n",
    "    driver.get(\"https://demo.prestashop.com/#/en/front\")\n",
    "    print(\"PrestaShop demo website opened successfully.\")\n",
    "    \n",
    "    time.sleep(7)\n",
    "    driver.switch_to.frame(driver.find_element(By.TAG_NAME, \"iframe\"))\n",
    "    print(\"Switched to iframe.\")\n",
    "\n",
    "    #2: Locate the search bar and search for a product\n",
    "    search_box = driver.find_element(By.CSS_SELECTOR, \"input.ui-autocomplete-input\")\n",
    "    search_query = \"T Shirt\"\n",
    "    search_box.send_keys(search_query)\n",
    "    search_box.send_keys(Keys.RETURN)\n",
    "    print(f\"Search query '{search_query}' submitted.\")\n",
    "\n",
    "    #results to load time\n",
    "    time.sleep(5)\n",
    "\n",
    "    #3: Validate search results\n",
    "    results = driver.find_elements(By.CSS_SELECTOR, \".product-title\")\n",
    "    assert len(results) > 0, \"No search results found.\"\n",
    "    print(f\"Search successful. Found {len(results)} results.\")\n",
    "\n",
    "    #4: Add 1st product to the cart\n",
    "    first_product = results[0]\n",
    "    print(f\"First product: {first_product.text}\")\n",
    "    first_product.click()\n",
    "    time.sleep(3)\n",
    "\n",
    "    # Clicking \"Add to cart\" button\n",
    "    add_to_cart_button = driver.find_element(By.CSS_SELECTOR, \"button.add-to-cart\")\n",
    "    add_to_cart_button.click()\n",
    "    print(\"Clicked 'Add to cart' button.\")\n",
    "\n",
    "    # Wait for the confirmation\n",
    "    time.sleep(3)\n",
    "\n",
    "    #5: Validate that the product was added to the cart\n",
    "    confirmation_modal = driver.find_element(By.CSS_SELECTOR, \"div.cart-content\")\n",
    "    assert \"successfully added\" in confirmation_modal.text.lower(), \"Product not added to cart.\"\n",
    "    print(\"Product successfully added to the cart.\")\n",
    "\n",
    "except AssertionError as e:\n",
    "    print(f\"Test failed: {e}\")\n",
    "\n",
    "except Exception as e:\n",
    "    print(f\"An error occurred: {e}\")\n",
    "\n",
    "finally:\n",
    "    driver.quit()\n",
    "    print(\"Browser closed.\")"
   ]
  },
  {
   "cell_type": "code",
   "execution_count": null,
   "id": "102acd59-720a-4b95-8873-c3b595bedb16",
   "metadata": {},
   "outputs": [],
   "source": []
  }
 ],
 "metadata": {
  "kernelspec": {
   "display_name": "Python 3 (ipykernel)",
   "language": "python",
   "name": "python3"
  },
  "language_info": {
   "codemirror_mode": {
    "name": "ipython",
    "version": 3
   },
   "file_extension": ".py",
   "mimetype": "text/x-python",
   "name": "python",
   "nbconvert_exporter": "python",
   "pygments_lexer": "ipython3",
   "version": "3.11.7"
  }
 },
 "nbformat": 4,
 "nbformat_minor": 5
}
